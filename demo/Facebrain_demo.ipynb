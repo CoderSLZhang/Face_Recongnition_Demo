{
 "cells": [
  {
   "cell_type": "markdown",
   "metadata": {},
   "source": [
    "## Facebrain Demo"
   ]
  },
  {
   "cell_type": "code",
   "execution_count": null,
   "metadata": {},
   "outputs": [
    {
     "name": "stdout",
     "output_type": "stream",
     "text": [
      "/Users/zhangshulin_work/Desktop/AI-Play/Git/Face_Recongnition_Demo\n"
     ]
    }
   ],
   "source": [
    "%cd .."
   ]
  },
  {
   "cell_type": "code",
   "execution_count": null,
   "metadata": {},
   "outputs": [
    {
     "name": "stderr",
     "output_type": "stream",
     "text": [
      "/Users/zhangshulin_work/anaconda/lib/python3.6/site-packages/h5py/__init__.py:34: FutureWarning: Conversion of the second argument of issubdtype from `float` to `np.floating` is deprecated. In future, it will be treated as `np.float64 == np.dtype(float).type`.\n",
      "  from ._conv import register_converters as _register_converters\n"
     ]
    }
   ],
   "source": [
    "from facebrain.facebrain import Facebrain\n",
    "from matplotlib import pylab as plt\n",
    "import numpy as np\n",
    "import cv2\n",
    "\n",
    "%matplotlib inline"
   ]
  },
  {
   "cell_type": "markdown",
   "metadata": {},
   "source": [
    "### 创建face_brain实例"
   ]
  },
  {
   "cell_type": "code",
   "execution_count": null,
   "metadata": {},
   "outputs": [],
   "source": [
    "face_brain = Facebrain()"
   ]
  },
  {
   "cell_type": "markdown",
   "metadata": {},
   "source": [
    "### 读取图片"
   ]
  },
  {
   "cell_type": "code",
   "execution_count": null,
   "metadata": {
    "collapsed": true
   },
   "outputs": [],
   "source": [
    "tfboys_file = './demo/images/tfboys.jpeg'\n",
    "wangjukai_file = './demo/images/王俊凯1.jpeg'"
   ]
  },
  {
   "cell_type": "code",
   "execution_count": null,
   "metadata": {
    "collapsed": true
   },
   "outputs": [],
   "source": [
    "tfboys_img = face_brain.read_image(tfboys_file)\n",
    "wangjukai_img = face_brain.read_image(wangjukai_file)"
   ]
  },
  {
   "cell_type": "code",
   "execution_count": null,
   "metadata": {},
   "outputs": [],
   "source": [
    "plt.figure(figsize=(16, 16))\n",
    "\n",
    "plt.subplot(1, 2, 1)\n",
    "plt.imshow(tfboys_img[0])\n",
    "\n",
    "plt.subplot(1, 2, 2)\n",
    "plt.imshow(wangjukai_img[0])"
   ]
  },
  {
   "cell_type": "markdown",
   "metadata": {},
   "source": [
    "### 人脸检测"
   ]
  },
  {
   "cell_type": "code",
   "execution_count": null,
   "metadata": {},
   "outputs": [],
   "source": [
    "tfboys_faces, tfboys_boxes = face_brain.detect_faces(tfboys_img)\n",
    "wangjukai_face, wangjukai_boxes = face_brain.detect_faces(wangjukai_img)"
   ]
  },
  {
   "cell_type": "code",
   "execution_count": null,
   "metadata": {},
   "outputs": [],
   "source": [
    "tfboys_img_copy = tfboys_img[0].copy()\n",
    "\n",
    "for tf_boxes in tfboys_boxes:\n",
    "    cv2.rectangle(tfboys_img_copy, (tf_boxes[0], tf_boxes[1]), (tf_boxes[2], tf_boxes[3]), (0, 255, 0), 2)\n",
    "    \n",
    "plt.figure(figsize=(10, 10))\n",
    "plt.imshow(tfboys_img_copy)"
   ]
  },
  {
   "cell_type": "code",
   "execution_count": null,
   "metadata": {},
   "outputs": [],
   "source": [
    "total_faces = np.concatenate([tfboys_faces, wangjukai_face], axis=0)\n",
    "\n",
    "plt.figure(figsize=(16, 16))\n",
    "for i, face in enumerate(total_faces):\n",
    "    plt.subplot(1, 4, i + 1)\n",
    "    plt.imshow(face)"
   ]
  },
  {
   "cell_type": "markdown",
   "metadata": {},
   "source": [
    "### 人脸编码 （人脸图像转换成128位编码）"
   ]
  },
  {
   "cell_type": "code",
   "execution_count": null,
   "metadata": {},
   "outputs": [],
   "source": [
    "tfboys_encoding = face_brain.encode_faces(tfboys_faces)\n",
    "wangjukai_encoding = face_brain.encode_faces(wangjukai_face)\n",
    "\n",
    "print('tfboys encoding: ', tfboys_encoding.shape)\n",
    "print('wangjukai_encoding: ', wangjukai_encoding.shape)"
   ]
  },
  {
   "cell_type": "markdown",
   "metadata": {},
   "source": [
    "### 人脸对比"
   ]
  },
  {
   "cell_type": "markdown",
   "metadata": {},
   "source": [
    "#### 比较人脸编码的相似度，越小越相似"
   ]
  },
  {
   "cell_type": "code",
   "execution_count": null,
   "metadata": {},
   "outputs": [],
   "source": [
    "face_brain.compare_faces(wangjukai_encoding, tfboys_encoding)"
   ]
  },
  {
   "cell_type": "markdown",
   "metadata": {},
   "source": [
    "#### 当人脸编码相似度小于threshold 0.7时判断为同一个人"
   ]
  },
  {
   "cell_type": "code",
   "execution_count": null,
   "metadata": {},
   "outputs": [],
   "source": [
    "face_brain.recognize_face(wangjukai_encoding, tfboys_encoding, threshold=0.7)"
   ]
  },
  {
   "cell_type": "code",
   "execution_count": null,
   "metadata": {
    "collapsed": true
   },
   "outputs": [],
   "source": []
  }
 ],
 "metadata": {
  "kernelspec": {
   "display_name": "Python 3",
   "language": "python",
   "name": "python3"
  },
  "language_info": {
   "codemirror_mode": {
    "name": "ipython",
    "version": 3
   },
   "file_extension": ".py",
   "mimetype": "text/x-python",
   "name": "python",
   "nbconvert_exporter": "python",
   "pygments_lexer": "ipython3",
   "version": "3.6.4"
  }
 },
 "nbformat": 4,
 "nbformat_minor": 2
}
